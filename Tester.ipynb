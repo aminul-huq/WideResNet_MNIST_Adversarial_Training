{
 "cells": [
  {
   "cell_type": "code",
   "execution_count": null,
   "metadata": {},
   "outputs": [],
   "source": [
    "import os,argparse,sys,datetime,time\n",
    "\n",
    "import torch\n",
    "import torch.optim as optim\n",
    "import torch.nn as nn\n",
    "import torch.nn.functional as F\n",
    "import torchvision.datasets as datasets\n",
    "import torchvision.transforms as transforms\n",
    "from torch.utils.data import DataLoader, TensorDataset\n",
    "\n",
    "from models import *\n",
    "from attack_methods import *\n",
    "from ot import *\n",
    "from training_config import *\n",
    "from utils import *\n",
    "from use_attacks import *\n",
    "from attacks import *\n",
    "device = torch.device(\"cuda:0\" if torch.cuda.is_available() else \"cpu\")"
   ]
  },
  {
   "cell_type": "code",
   "execution_count": null,
   "metadata": {},
   "outputs": [],
   "source": [
    "trainset = datasets.MNIST(root='/home/aminul/data', train = True, download =False, transform = transforms.ToTensor())\n",
    "testset = datasets.MNIST(root='/home/aminul/data', train = False, download =False, transform = transforms.ToTensor())\n",
    "num_classes = 10"
   ]
  },
  {
   "cell_type": "code",
   "execution_count": null,
   "metadata": {},
   "outputs": [],
   "source": [
    "train_loader = DataLoader(trainset, 100, shuffle =True, num_workers = 2)\n",
    "test_loader = DataLoader(testset, 100, shuffle = False, num_workers = 2)"
   ]
  },
  {
   "cell_type": "code",
   "execution_count": null,
   "metadata": {},
   "outputs": [],
   "source": [
    "net = WideResNet(depth=28,\n",
    "                           num_classes=num_classes,\n",
    "                           widen_factor=10)\n",
    "net = net.to(device)\n",
    "net = nn.DataParallel(net,device_ids=[0, 1])"
   ]
  },
  {
   "cell_type": "code",
   "execution_count": null,
   "metadata": {},
   "outputs": [],
   "source": [
    "criterion = nn.CrossEntropyLoss()\n",
    "optimizer = torch.optim.Adam(net.parameters(),lr=0.1)"
   ]
  },
  {
   "cell_type": "code",
   "execution_count": null,
   "metadata": {},
   "outputs": [],
   "source": [
    "#for epoch in range(0, 30):\n",
    "    \n",
    "#    train(net,train_loader,optimizer,criterion,epoch,device)\n",
    "#    best_acc = test(net,test_loader,optimizer,criterion,epoch,device)"
   ]
  },
  {
   "cell_type": "code",
   "execution_count": null,
   "metadata": {},
   "outputs": [],
   "source": [
    "#print(\"\\n\\n\\n----------------\")\n",
    "#print(\"Loading Best Model\")\n",
    "#checkpoint = torch.load('./checkpoint/model.t7')\n",
    "#net = checkpoint['net']\n",
    "#print(\"Done !\")"
   ]
  },
  {
   "cell_type": "code",
   "execution_count": null,
   "metadata": {},
   "outputs": [],
   "source": [
    "#FGSM_test(net,test_loader,optimizer,criterion,0.15,device)    \n",
    "#MIFGSM_test(net,test_loader,optimizer,criterion,0.0313,100,0.9,device) \n",
    "#PGD_test(net,test_loader,optimizer,criterion,0.15,10,0.008,device)"
   ]
  },
  {
   "cell_type": "code",
   "execution_count": null,
   "metadata": {},
   "outputs": [],
   "source": [
    "#for epoch in range(0, 30):\n",
    "#    PGD_train(net,train_loader,optimizer,criterion,epoch,0.15,10,0.008,device)"
   ]
  },
  {
   "cell_type": "code",
   "execution_count": null,
   "metadata": {},
   "outputs": [],
   "source": [
    "for epoch in range(0, 30):\n",
    "    FeaScatter_train(net,train_loader,optimizer,criterion,epoch,0.15,10,0.008,device)"
   ]
  },
  {
   "cell_type": "code",
   "execution_count": null,
   "metadata": {},
   "outputs": [],
   "source": []
  }
 ],
 "metadata": {
  "kernelspec": {
   "display_name": "Python [conda env:pyTorch]",
   "language": "python",
   "name": "conda-env-pyTorch-py"
  },
  "language_info": {
   "codemirror_mode": {
    "name": "ipython",
    "version": 3
   },
   "file_extension": ".py",
   "mimetype": "text/x-python",
   "name": "python",
   "nbconvert_exporter": "python",
   "pygments_lexer": "ipython3",
   "version": "3.7.7"
  }
 },
 "nbformat": 4,
 "nbformat_minor": 4
}
